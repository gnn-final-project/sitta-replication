{
 "cells": [
  {
   "cell_type": "code",
   "execution_count": 1,
   "metadata": {},
   "outputs": [
    {
     "name": "stderr",
     "output_type": "stream",
     "text": [
      "c:\\Users\\Grace\\anaconda3\\envs\\singan\\lib\\site-packages\\tqdm\\auto.py:21: TqdmWarning: IProgress not found. Please update jupyter and ipywidgets. See https://ipywidgets.readthedocs.io/en/stable/user_install.html\n",
      "  from .autonotebook import tqdm as notebook_tqdm\n"
     ]
    },
    {
     "name": "stdout",
     "output_type": "stream",
     "text": [
      "\n",
      "📌 Training model: resnet18\n"
     ]
    },
    {
     "name": "stderr",
     "output_type": "stream",
     "text": [
      "Downloading: \"https://download.pytorch.org/models/resnet18-5c106cde.pth\" to C:\\Users\\Grace/.cache\\torch\\hub\\checkpoints\\resnet18-5c106cde.pth\n",
      "100%|██████████| 44.7M/44.7M [00:03<00:00, 14.9MB/s]\n"
     ]
    },
    {
     "name": "stdout",
     "output_type": "stream",
     "text": [
      "Epoch 1/10 - Loss: 1.1663\n",
      "Epoch 2/10 - Loss: 0.0175\n",
      "Epoch 3/10 - Loss: 0.0068\n",
      "Epoch 4/10 - Loss: 0.0110\n",
      "Epoch 5/10 - Loss: 0.0182\n",
      "Epoch 6/10 - Loss: 0.0039\n",
      "Epoch 7/10 - Loss: 0.0029\n",
      "Epoch 8/10 - Loss: 0.0015\n",
      "Epoch 9/10 - Loss: 0.0027\n",
      "Epoch 10/10 - Loss: 0.0020\n",
      "✅ resnet18 Accuracy: 55.25%\n",
      "\n",
      "📌 Training model: vgg16\n",
      "Epoch 1/10 - Loss: 1.4268\n",
      "Epoch 2/10 - Loss: 0.0000\n",
      "Epoch 3/10 - Loss: 0.0000\n",
      "Epoch 4/10 - Loss: 49.0070\n",
      "Epoch 5/10 - Loss: 0.0005\n",
      "Epoch 6/10 - Loss: 0.0000\n",
      "Epoch 7/10 - Loss: 0.0000\n",
      "Epoch 8/10 - Loss: 0.0000\n",
      "Epoch 9/10 - Loss: 0.0000\n",
      "Epoch 10/10 - Loss: 0.0000\n",
      "✅ vgg16 Accuracy: 55.25%\n",
      "\n",
      "📊 Final Classification Accuracy\n",
      "ResNet-18: 55.25%\n",
      "VGG16    : 55.25%\n"
     ]
    }
   ],
   "source": [
    "import torch\n",
    "import torch.nn as nn\n",
    "import torch.optim as optim\n",
    "from torchvision import datasets, transforms, models\n",
    "from torch.utils.data import DataLoader\n",
    "\n",
    "# ✅ 디바이스 설정\n",
    "device = torch.device(\"cuda\" if torch.cuda.is_available() else \"cpu\")\n",
    "\n",
    "# ✅ 데이터 로딩\n",
    "data_transform = transforms.Compose([\n",
    "    transforms.Resize((288, 288)),\n",
    "    transforms.ToTensor()\n",
    "])\n",
    "\n",
    "train_dataset = datasets.ImageFolder('../../data/singan/plant_pathology/train', transform=data_transform)\n",
    "test_dataset = datasets.ImageFolder('../../data/singan/plant_pathology/test', transform=data_transform)\n",
    "\n",
    "train_loader = DataLoader(train_dataset, batch_size=32, shuffle=True)\n",
    "test_loader = DataLoader(test_dataset, batch_size=32)\n",
    "\n",
    "# ✅ 공통 학습 함수\n",
    "def train_and_evaluate(model_name=\"resnet18\"):\n",
    "    print(f\"\\n📌 Training model: {model_name}\")\n",
    "    \n",
    "    if model_name == \"resnet18\":\n",
    "        model = models.resnet18(pretrained=True)\n",
    "        model.fc = nn.Linear(model.fc.in_features, 2)\n",
    "    elif model_name == \"vgg16\":\n",
    "        model = models.vgg16(pretrained=True)\n",
    "        model.classifier[6] = nn.Linear(model.classifier[6].in_features, 2)\n",
    "    else:\n",
    "        raise ValueError(\"Model name must be 'resnet18' or 'vgg16'\")\n",
    "    \n",
    "    model = model.to(device)\n",
    "    \n",
    "    criterion = nn.CrossEntropyLoss()\n",
    "    optimizer = optim.Adam(model.parameters(), lr=1e-4)\n",
    "    \n",
    "    # 학습\n",
    "    for epoch in range(10):  # Epoch 수는 필요시 조정\n",
    "        model.train()\n",
    "        running_loss = 0.0\n",
    "        for images, labels in train_loader:\n",
    "            images, labels = images.to(device), labels.to(device)\n",
    "\n",
    "            optimizer.zero_grad()\n",
    "            outputs = model(images)\n",
    "            loss = criterion(outputs, labels)\n",
    "            loss.backward()\n",
    "            optimizer.step()\n",
    "\n",
    "            running_loss += loss.item()\n",
    "        \n",
    "        print(f\"Epoch {epoch+1}/10 - Loss: {running_loss:.4f}\")\n",
    "    \n",
    "    # 평가\n",
    "    model.eval()\n",
    "    correct, total = 0, 0\n",
    "    with torch.no_grad():\n",
    "        for images, labels in test_loader:\n",
    "            images, labels = images.to(device), labels.to(device)\n",
    "            outputs = model(images)\n",
    "            _, predicted = torch.max(outputs, 1)\n",
    "            correct += (predicted == labels).sum().item()\n",
    "            total += labels.size(0)\n",
    "\n",
    "    accuracy = correct / total * 100\n",
    "    print(f\"✅ {model_name} Accuracy: {accuracy:.2f}%\")\n",
    "    return accuracy\n",
    "\n",
    "# ✅ 실행\n",
    "resnet_acc = train_and_evaluate(\"resnet18\")\n",
    "vgg_acc = train_and_evaluate(\"vgg16\")\n",
    "\n",
    "# ✅ 요약 출력\n",
    "print(\"\\n📊 Final Classification Accuracy\")\n",
    "print(f\"ResNet-18: {resnet_acc:.2f}%\")\n",
    "print(f\"VGG16    : {vgg_acc:.2f}%\")"
   ]
  },
  {
   "cell_type": "code",
   "execution_count": null,
   "metadata": {},
   "outputs": [],
   "source": []
  }
 ],
 "metadata": {
  "kernelspec": {
   "display_name": "singan",
   "language": "python",
   "name": "python3"
  },
  "language_info": {
   "codemirror_mode": {
    "name": "ipython",
    "version": 3
   },
   "file_extension": ".py",
   "mimetype": "text/x-python",
   "name": "python",
   "nbconvert_exporter": "python",
   "pygments_lexer": "ipython3",
   "version": "3.7.12"
  }
 },
 "nbformat": 4,
 "nbformat_minor": 2
}
